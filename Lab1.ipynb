{
  "metadata": {
    "kernelspec": {
      "display_name": "Python (Pyodide)",
      "language": "python",
      "name": "python"
    },
    "language_info": {
      "codemirror_mode": {
        "name": "python",
        "version": 3
      },
      "file_extension": ".py",
      "mimetype": "text/x-python",
      "name": "python",
      "nbconvert_exporter": "python",
      "pygments_lexer": "ipython3",
      "version": "3.8"
    },
    "colab": {
      "provenance": []
    }
  },
  "nbformat_minor": 0,
  "nbformat": 4,
  "cells": [
    {
      "cell_type": "markdown",
      "source": [
        "# Lab 1\n",
        "### Learning outcomes\n",
        "Upon successful completion of this lab, you will have demonstrated the abilities to:\n",
        "1.\tLoading a dataset into a pandas dataframe\n",
        "2.\tCounting how many rows and columns were loaded\n",
        "3.\tDetermining which type of data was loaded\n",
        "4.\tLooking at different parts of the data by subsetting rows and columns\n",
        "5.\tWorking with Data Series\n"
      ],
      "metadata": {
        "id": "E2vAkIf0dCQ5"
      }
    },
    {
      "cell_type": "markdown",
      "source": [
        "#### Before you start\n",
        "Load the diabetes dataset"
      ],
      "metadata": {
        "id": "3QhgZtBtdCQ8"
      }
    },
    {
      "cell_type": "markdown",
      "source": [
        "## Run this cell, look at the output for each command to make sure you understand the purpose of each command\n",
        "from sklearn.datasets import load_diabetes\n",
        "import pandas as pd\n",
        "\n",
        "diabetes=load_diabetes()\n",
        "print(diabetes.keys())\n",
        "print(diabetes.DESCR)\n",
        "print(diabetes.feature_names) # these are the column names\n",
        "# attach the feature names to the data as column names\n",
        "df=pd.DataFrame(diabetes.data, columns=diabetes.feature_names)\n",
        "\n"
      ],
      "metadata": {
        "trusted": true,
        "id": "BbeZcD3ldCQ8"
      }
    },
    {
      "cell_type": "code",
      "source": [
        "from sklearn.datasets import load_diabetes\n",
        "import pandas as pd\n",
        "\n",
        "diabetes=load_diabetes()\n",
        "\n",
        "print(diabetes.keys())\n",
        "print(diabetes.DESCR)\n",
        "print(diabetes.feature_names) # these are the column names\n",
        "\n",
        "df = pd.DataFrame(diabetes.data, columns=diabetes.feature_names)"
      ],
      "metadata": {
        "colab": {
          "base_uri": "https://localhost:8080/"
        },
        "id": "mgotuRYpdPd5",
        "outputId": "e8e7f17b-2cb5-4f97-bf02-5f6fb4b0a0c2"
      },
      "execution_count": 2,
      "outputs": [
        {
          "output_type": "stream",
          "name": "stdout",
          "text": [
            "dict_keys(['data', 'target', 'frame', 'DESCR', 'feature_names', 'data_filename', 'target_filename', 'data_module'])\n",
            ".. _diabetes_dataset:\n",
            "\n",
            "Diabetes dataset\n",
            "----------------\n",
            "\n",
            "Ten baseline variables, age, sex, body mass index, average blood\n",
            "pressure, and six blood serum measurements were obtained for each of n =\n",
            "442 diabetes patients, as well as the response of interest, a\n",
            "quantitative measure of disease progression one year after baseline.\n",
            "\n",
            "**Data Set Characteristics:**\n",
            "\n",
            "  :Number of Instances: 442\n",
            "\n",
            "  :Number of Attributes: First 10 columns are numeric predictive values\n",
            "\n",
            "  :Target: Column 11 is a quantitative measure of disease progression one year after baseline\n",
            "\n",
            "  :Attribute Information:\n",
            "      - age     age in years\n",
            "      - sex\n",
            "      - bmi     body mass index\n",
            "      - bp      average blood pressure\n",
            "      - s1      tc, total serum cholesterol\n",
            "      - s2      ldl, low-density lipoproteins\n",
            "      - s3      hdl, high-density lipoproteins\n",
            "      - s4      tch, total cholesterol / HDL\n",
            "      - s5      ltg, possibly log of serum triglycerides level\n",
            "      - s6      glu, blood sugar level\n",
            "\n",
            "Note: Each of these 10 feature variables have been mean centered and scaled by the standard deviation times the square root of `n_samples` (i.e. the sum of squares of each column totals 1).\n",
            "\n",
            "Source URL:\n",
            "https://www4.stat.ncsu.edu/~boos/var.select/diabetes.html\n",
            "\n",
            "For more information see:\n",
            "Bradley Efron, Trevor Hastie, Iain Johnstone and Robert Tibshirani (2004) \"Least Angle Regression,\" Annals of Statistics (with discussion), 407-499.\n",
            "(https://web.stanford.edu/~hastie/Papers/LARS/LeastAngle_2002.pdf)\n",
            "\n",
            "['age', 'sex', 'bmi', 'bp', 's1', 's2', 's3', 's4', 's5', 's6']\n"
          ]
        }
      ]
    },
    {
      "cell_type": "markdown",
      "source": [
        "1. print the number of rows and columns in the dataset using the shape attribute of the dataframe object"
      ],
      "metadata": {
        "id": "2dYcudU4dCQ8"
      }
    },
    {
      "cell_type": "code",
      "source": [
        "print(df.shape)"
      ],
      "metadata": {
        "trusted": true,
        "colab": {
          "base_uri": "https://localhost:8080/"
        },
        "id": "AHQICHpIdCQ9",
        "outputId": "ca3740ba-e306-46b1-b9b7-abb47c83b812"
      },
      "execution_count": null,
      "outputs": [
        {
          "output_type": "stream",
          "name": "stdout",
          "text": [
            "(442, 10)\n"
          ]
        }
      ]
    },
    {
      "cell_type": "markdown",
      "source": [
        "2. print the first 5 observations of the dataset."
      ],
      "metadata": {
        "id": "mSJV7fHddCQ9"
      }
    },
    {
      "cell_type": "code",
      "source": [
        "print(df.head())"
      ],
      "metadata": {
        "colab": {
          "base_uri": "https://localhost:8080/"
        },
        "id": "CpVGFp1adCQ-",
        "outputId": "a0fc99ff-dcaf-473f-ceb0-33214c633570"
      },
      "execution_count": null,
      "outputs": [
        {
          "output_type": "stream",
          "name": "stdout",
          "text": [
            "        age       sex       bmi        bp        s1        s2        s3  \\\n",
            "0  0.038076  0.050680  0.061696  0.021872 -0.044223 -0.034821 -0.043401   \n",
            "1 -0.001882 -0.044642 -0.051474 -0.026328 -0.008449 -0.019163  0.074412   \n",
            "2  0.085299  0.050680  0.044451 -0.005670 -0.045599 -0.034194 -0.032356   \n",
            "3 -0.089063 -0.044642 -0.011595 -0.036656  0.012191  0.024991 -0.036038   \n",
            "4  0.005383 -0.044642 -0.036385  0.021872  0.003935  0.015596  0.008142   \n",
            "\n",
            "         s4        s5        s6  \n",
            "0 -0.002592  0.019907 -0.017646  \n",
            "1 -0.039493 -0.068332 -0.092204  \n",
            "2 -0.002592  0.002861 -0.025930  \n",
            "3  0.034309  0.022688 -0.009362  \n",
            "4 -0.002592 -0.031988 -0.046641  \n"
          ]
        }
      ]
    },
    {
      "cell_type": "markdown",
      "source": [
        "3. print the column names of the dataset"
      ],
      "metadata": {
        "id": "uJyi5o6XdCQ-"
      }
    },
    {
      "cell_type": "code",
      "source": [
        "print(df.columns)"
      ],
      "metadata": {
        "colab": {
          "base_uri": "https://localhost:8080/"
        },
        "id": "R6mxZLS6dCQ-",
        "outputId": "598d41d8-635f-4e53-a6fa-533c6bf7fa17"
      },
      "execution_count": null,
      "outputs": [
        {
          "output_type": "stream",
          "name": "stdout",
          "text": [
            "Index(['age', 'sex', 'bmi', 'bp', 's1', 's2', 's3', 's4', 's5', 's6'], dtype='object')\n"
          ]
        }
      ]
    },
    {
      "cell_type": "markdown",
      "source": [
        "4. get the dtype of each column"
      ],
      "metadata": {
        "id": "0-pMMbnodCQ-"
      }
    },
    {
      "cell_type": "code",
      "source": [
        "print(df.dtypes)"
      ],
      "metadata": {
        "colab": {
          "base_uri": "https://localhost:8080/"
        },
        "id": "ArgIK3HBdCQ-",
        "outputId": "d62d6329-c1a5-4487-c4a4-53dfb0a1ba39"
      },
      "execution_count": null,
      "outputs": [
        {
          "output_type": "stream",
          "name": "stdout",
          "text": [
            "age    float64\n",
            "sex    float64\n",
            "bmi    float64\n",
            "bp     float64\n",
            "s1     float64\n",
            "s2     float64\n",
            "s3     float64\n",
            "s4     float64\n",
            "s5     float64\n",
            "s6     float64\n",
            "dtype: object\n"
          ]
        }
      ]
    },
    {
      "cell_type": "markdown",
      "source": [
        "5. use loc to show the second row of the dataset."
      ],
      "metadata": {
        "id": "zw9FDlr2dCQ-"
      }
    },
    {
      "cell_type": "code",
      "source": [
        "print(df.loc[1])"
      ],
      "metadata": {
        "colab": {
          "base_uri": "https://localhost:8080/"
        },
        "id": "lL-hEo_2dCQ_",
        "outputId": "2195aacd-9bb5-4591-8118-924d8067866f"
      },
      "execution_count": null,
      "outputs": [
        {
          "output_type": "stream",
          "name": "stdout",
          "text": [
            "age   -0.001882\n",
            "sex   -0.044642\n",
            "bmi   -0.051474\n",
            "bp    -0.026328\n",
            "s1    -0.008449\n",
            "s2    -0.019163\n",
            "s3     0.074412\n",
            "s4    -0.039493\n",
            "s5    -0.068332\n",
            "s6    -0.092204\n",
            "Name: 1, dtype: float64\n"
          ]
        }
      ]
    },
    {
      "cell_type": "markdown",
      "source": [
        "6. use loc to show the second, 100th and 150th rows of the dataset"
      ],
      "metadata": {
        "id": "8BSmX7sXdCQ_"
      }
    },
    {
      "cell_type": "code",
      "source": [
        "print(df.loc[[1, 99, 149]])"
      ],
      "metadata": {
        "colab": {
          "base_uri": "https://localhost:8080/"
        },
        "id": "ji7L8ae5dCQ_",
        "outputId": "f86e6923-d98d-4df4-845b-f13441e3dfc7"
      },
      "execution_count": null,
      "outputs": [
        {
          "output_type": "stream",
          "name": "stdout",
          "text": [
            "          age       sex       bmi        bp        s1        s2        s3  \\\n",
            "1   -0.001882 -0.044642 -0.051474 -0.026328 -0.008449 -0.019163  0.074412   \n",
            "99  -0.001882 -0.044642 -0.064408  0.011544  0.027326  0.037517 -0.013948   \n",
            "149 -0.049105  0.050680 -0.005128 -0.046985 -0.020832 -0.020416 -0.069172   \n",
            "\n",
            "           s4        s5        s6  \n",
            "1   -0.039493 -0.068332 -0.092204  \n",
            "99   0.034309  0.011785 -0.054925  \n",
            "149  0.071210  0.061238 -0.038357  \n"
          ]
        }
      ]
    },
    {
      "cell_type": "markdown",
      "source": [
        "7. use iloc to show the the second and 100th rows of the dataset"
      ],
      "metadata": {
        "id": "MvEGMgnpdCQ_"
      }
    },
    {
      "cell_type": "code",
      "source": [
        "print(df.iloc[[1, 99]])"
      ],
      "metadata": {
        "colab": {
          "base_uri": "https://localhost:8080/"
        },
        "id": "YE6jGnl8dCQ_",
        "outputId": "c0abb6d8-8792-4f2f-829e-73ecc57fe531"
      },
      "execution_count": null,
      "outputs": [
        {
          "output_type": "stream",
          "name": "stdout",
          "text": [
            "         age       sex       bmi        bp        s1        s2        s3  \\\n",
            "1  -0.001882 -0.044642 -0.051474 -0.026328 -0.008449 -0.019163  0.074412   \n",
            "99 -0.001882 -0.044642 -0.064408  0.011544  0.027326  0.037517 -0.013948   \n",
            "\n",
            "          s4        s5        s6  \n",
            "1  -0.039493 -0.068332 -0.092204  \n",
            "99  0.034309  0.011785 -0.054925  \n"
          ]
        }
      ]
    },
    {
      "cell_type": "markdown",
      "source": [
        "8. use loc to show the bmi column of the dataset"
      ],
      "metadata": {
        "id": "6OBmO5gcdCQ_"
      }
    },
    {
      "cell_type": "code",
      "source": [
        "print(df.loc[:, 'bmi'])"
      ],
      "metadata": {
        "colab": {
          "base_uri": "https://localhost:8080/"
        },
        "id": "ra9jVBtfdCQ_",
        "outputId": "a3a7c24f-f38a-4a15-b1e8-0fd69816d600"
      },
      "execution_count": null,
      "outputs": [
        {
          "output_type": "stream",
          "name": "stdout",
          "text": [
            "0      0.061696\n",
            "1     -0.051474\n",
            "2      0.044451\n",
            "3     -0.011595\n",
            "4     -0.036385\n",
            "         ...   \n",
            "437    0.019662\n",
            "438   -0.015906\n",
            "439   -0.015906\n",
            "440    0.039062\n",
            "441   -0.073030\n",
            "Name: bmi, Length: 442, dtype: float64\n"
          ]
        }
      ]
    },
    {
      "cell_type": "markdown",
      "source": [
        "9. Use loc to show the bmi, bp columns of the dataset"
      ],
      "metadata": {
        "id": "IoaA-O__dCQ_"
      }
    },
    {
      "cell_type": "code",
      "source": [
        "print(df.loc[:, ['bmi', 'bp']])"
      ],
      "metadata": {
        "colab": {
          "base_uri": "https://localhost:8080/"
        },
        "id": "G06rV-0ndCQ_",
        "outputId": "3421222a-e2b1-4033-ef83-73f071416ccf"
      },
      "execution_count": null,
      "outputs": [
        {
          "output_type": "stream",
          "name": "stdout",
          "text": [
            "          bmi        bp\n",
            "0    0.061696  0.021872\n",
            "1   -0.051474 -0.026328\n",
            "2    0.044451 -0.005670\n",
            "3   -0.011595 -0.036656\n",
            "4   -0.036385  0.021872\n",
            "..        ...       ...\n",
            "437  0.019662  0.059744\n",
            "438 -0.015906 -0.067642\n",
            "439 -0.015906  0.017293\n",
            "440  0.039062  0.001215\n",
            "441 -0.073030 -0.081413\n",
            "\n",
            "[442 rows x 2 columns]\n"
          ]
        }
      ]
    },
    {
      "cell_type": "markdown",
      "source": [
        "10. use iloc to show the last row of the dataset"
      ],
      "metadata": {
        "id": "tHARgmJ2dCRA"
      }
    },
    {
      "cell_type": "code",
      "source": [
        "print(df.iloc[-1])"
      ],
      "metadata": {
        "colab": {
          "base_uri": "https://localhost:8080/"
        },
        "id": "3J5dLpDAdCRA",
        "outputId": "efe0ea39-76ae-4151-eaa6-31338dbc33c3"
      },
      "execution_count": null,
      "outputs": [
        {
          "output_type": "stream",
          "name": "stdout",
          "text": [
            "age   -0.045472\n",
            "sex   -0.044642\n",
            "bmi   -0.073030\n",
            "bp    -0.081413\n",
            "s1     0.083740\n",
            "s2     0.027809\n",
            "s3     0.173816\n",
            "s4    -0.039493\n",
            "s5    -0.004222\n",
            "s6     0.003064\n",
            "Name: 441, dtype: float64\n"
          ]
        }
      ]
    },
    {
      "cell_type": "markdown",
      "source": [
        "11. Use iloc to show the last two observations of the dataset"
      ],
      "metadata": {
        "id": "3Xce5d9XdCRA"
      }
    },
    {
      "cell_type": "code",
      "source": [
        "print(df.iloc[-2:])"
      ],
      "metadata": {
        "colab": {
          "base_uri": "https://localhost:8080/"
        },
        "id": "rUuPCBLqdCRA",
        "outputId": "2c460410-0534-456c-897e-cb80045b82d5"
      },
      "execution_count": 47,
      "outputs": [
        {
          "output_type": "stream",
          "name": "stdout",
          "text": [
            "          age       sex       bmi        bp        s1        s2        s3  \\\n",
            "440 -0.045472 -0.044642  0.039062  0.001215  0.016318  0.015283 -0.028674   \n",
            "441 -0.045472 -0.044642 -0.073030 -0.081413  0.083740  0.027809  0.173816   \n",
            "\n",
            "           s4        s5        s6  \n",
            "440  0.026560  0.044529 -0.025930  \n",
            "441 -0.039493 -0.004222  0.003064  \n"
          ]
        }
      ]
    },
    {
      "cell_type": "markdown",
      "source": [
        "12. use loc to create a subset of the first 10 obs for age,bmi,bp columns. Then show the first 5 obs of the subset dataframe."
      ],
      "metadata": {
        "id": "6iALYnpNdCRA"
      }
    },
    {
      "cell_type": "code",
      "source": [
        "subset = df.loc[:, ['age', 'bmi', 'bp']].head(10)\n",
        "print(subset.head(5))"
      ],
      "metadata": {
        "colab": {
          "base_uri": "https://localhost:8080/"
        },
        "id": "j7vIH5LndCRA",
        "outputId": "4faf41a9-a83e-406a-c3ad-c62da3d8357d"
      },
      "execution_count": null,
      "outputs": [
        {
          "output_type": "stream",
          "name": "stdout",
          "text": [
            "        age       bmi        bp\n",
            "0  0.038076  0.061696  0.021872\n",
            "1 -0.001882 -0.051474 -0.026328\n",
            "2  0.085299  0.044451 -0.005670\n",
            "3 -0.089063 -0.011595 -0.036656\n",
            "4  0.005383 -0.036385  0.021872\n"
          ]
        }
      ]
    },
    {
      "cell_type": "markdown",
      "source": [
        "13. Use iloc and slicing columns method with colon (:) to slice the first 6 columns of the dataset)keep all rows). Save the sliced subset in dataframe subset, then show the first 5 obs of dataframe subset.   "
      ],
      "metadata": {
        "id": "psT9p05-dCRA"
      }
    },
    {
      "cell_type": "code",
      "source": [
        "subset = df.iloc[:, :6]\n",
        "print(subset.head())"
      ],
      "metadata": {
        "colab": {
          "base_uri": "https://localhost:8080/"
        },
        "id": "BN7XI0R9dCRA",
        "outputId": "e2829c84-ce0f-4337-a67a-602193efdb2f"
      },
      "execution_count": 48,
      "outputs": [
        {
          "output_type": "stream",
          "name": "stdout",
          "text": [
            "        age       sex       bmi        bp        s1        s2\n",
            "0  0.038076  0.050680  0.061696  0.021872 -0.044223 -0.034821\n",
            "1 -0.001882 -0.044642 -0.051474 -0.026328 -0.008449 -0.019163\n",
            "2  0.085299  0.050680  0.044451 -0.005670 -0.045599 -0.034194\n",
            "3 -0.089063 -0.044642 -0.011595 -0.036656  0.012191  0.024991\n",
            "4  0.005383 -0.044642 -0.036385  0.021872  0.003935  0.015596\n"
          ]
        }
      ]
    },
    {
      "cell_type": "markdown",
      "source": [
        "14. slice columns 3 to 5 inclusive into dataframe subset. then show the first 5 obs of dataframe subset.  "
      ],
      "metadata": {
        "id": "HALUPmqRdCRB"
      }
    },
    {
      "cell_type": "code",
      "source": [
        "subset = df.iloc[:, 2:5]\n",
        "print(subset.head())"
      ],
      "metadata": {
        "id": "A_s-r9aYdCRB",
        "colab": {
          "base_uri": "https://localhost:8080/"
        },
        "outputId": "dcd98c2b-8705-4973-8366-bbd5459290ec"
      },
      "execution_count": 49,
      "outputs": [
        {
          "output_type": "stream",
          "name": "stdout",
          "text": [
            "        bmi        bp        s1\n",
            "0  0.061696  0.021872 -0.044223\n",
            "1 -0.051474 -0.026328 -0.008449\n",
            "2  0.044451 -0.005670 -0.045599\n",
            "3 -0.011595 -0.036656  0.012191\n",
            "4 -0.036385  0.021872  0.003935\n"
          ]
        }
      ]
    },
    {
      "cell_type": "markdown",
      "source": [
        "15. use iloc and slice every other column up to 5 inclusive into a dataframe subset. Then show the first 5 obs of the dataframe subset."
      ],
      "metadata": {
        "id": "MkB3PD0OdCRB"
      }
    },
    {
      "cell_type": "code",
      "source": [
        "subset = df.iloc[:, :5:2]\n",
        "print(subset.head())"
      ],
      "metadata": {
        "id": "4IEXSRt8dCRB",
        "colab": {
          "base_uri": "https://localhost:8080/"
        },
        "outputId": "9ee932d4-97fe-423e-b15c-d4c6abb10ed1"
      },
      "execution_count": 5,
      "outputs": [
        {
          "output_type": "stream",
          "name": "stdout",
          "text": [
            "        age       bmi        s1\n",
            "0  0.038076  0.061696 -0.044223\n",
            "1 -0.001882 -0.051474 -0.008449\n",
            "2  0.085299  0.044451 -0.045599\n",
            "3 -0.089063 -0.011595  0.012191\n",
            "4  0.005383 -0.036385  0.003935\n"
          ]
        }
      ]
    },
    {
      "cell_type": "markdown",
      "source": [
        "16. Use loc to display the age for the 10th row of the dataframe."
      ],
      "metadata": {
        "id": "TIOFxn5VdCRB"
      }
    },
    {
      "cell_type": "code",
      "source": [
        "print(df.loc[9, 'age'])"
      ],
      "metadata": {
        "id": "3qkrnrnqdCRB",
        "colab": {
          "base_uri": "https://localhost:8080/"
        },
        "outputId": "d881a0ca-b167-40cd-bfc4-759480282c04"
      },
      "execution_count": 6,
      "outputs": [
        {
          "output_type": "stream",
          "name": "stdout",
          "text": [
            "-0.07090024709715959\n"
          ]
        }
      ]
    },
    {
      "cell_type": "markdown",
      "source": [
        "17. Use loc to display the bmi for row numbers 100, 200 and 300."
      ],
      "metadata": {
        "id": "vtnMVafWdCRB"
      }
    },
    {
      "cell_type": "code",
      "source": [
        "print(df.loc[[100, 200, 300], 'bmi'])"
      ],
      "metadata": {
        "id": "b-OYUJaedCRB",
        "colab": {
          "base_uri": "https://localhost:8080/"
        },
        "outputId": "4a3ed0e6-6eed-4883-cd96-4367b0f0514c"
      },
      "execution_count": 8,
      "outputs": [
        {
          "output_type": "stream",
          "name": "stdout",
          "text": [
            "100    0.017506\n",
            "200   -0.057941\n",
            "300    0.073552\n",
            "Name: bmi, dtype: float64\n"
          ]
        }
      ]
    },
    {
      "cell_type": "code",
      "source": [
        "url = \"https://www4.stat.ncsu.edu/~boos/var.select/diabetes.tab.txt\"\n",
        "\n",
        "new_df = pd.read_csv(url, sep='\\t')"
      ],
      "metadata": {
        "id": "B2iGm8k6oMnr"
      },
      "execution_count": 19,
      "outputs": []
    },
    {
      "cell_type": "markdown",
      "source": [
        "18. use loc to display the data where age>50."
      ],
      "metadata": {
        "id": "5V65pDCcdCRB"
      }
    },
    {
      "cell_type": "code",
      "source": [
        "print(new_df.loc[new_df['AGE'] > 50])"
      ],
      "metadata": {
        "id": "_-HX6ejydCRC",
        "colab": {
          "base_uri": "https://localhost:8080/"
        },
        "outputId": "971d1d56-236e-4ad3-bade-5c0a18a9f278"
      },
      "execution_count": 22,
      "outputs": [
        {
          "output_type": "stream",
          "name": "stdout",
          "text": [
            "     AGE  SEX   BMI      BP   S1     S2    S3    S4      S5   S6    Y\n",
            "0     59    2  32.1  101.00  157   93.2  38.0  4.00  4.8598   87  151\n",
            "2     72    2  30.5   93.00  156   93.6  41.0  4.00  4.6728   85  141\n",
            "7     66    2  26.2  114.00  255  185.0  56.0  4.55  4.2485   92   63\n",
            "8     60    2  32.1   83.00  179  119.4  42.0  4.00  4.4773   94  110\n",
            "11    56    2  28.0   85.00  184  144.8  32.0  6.00  3.5835   77   69\n",
            "..   ...  ...   ...     ...  ...    ...   ...   ...     ...  ...  ...\n",
            "431   68    2  23.5  101.00  162   85.4  59.0  3.00  4.4773   91   66\n",
            "432   51    1  31.5   93.00  231  144.0  49.0  4.70  5.2523  117  173\n",
            "434   53    1  26.5   97.00  193  122.4  58.0  3.00  4.1431   99   49\n",
            "437   60    2  28.2  112.00  185  113.8  42.0  4.00  4.9836   93  178\n",
            "439   60    2  24.9   99.67  162  106.6  43.0  3.77  4.1271   95  132\n",
            "\n",
            "[215 rows x 11 columns]\n"
          ]
        }
      ]
    },
    {
      "cell_type": "markdown",
      "source": [
        "19. use loc to display only bmi and bp for the females only."
      ],
      "metadata": {
        "id": "nkKrbkkEdCRH"
      }
    },
    {
      "cell_type": "code",
      "source": [
        "print(new_df.loc[new_df['SEX'] == 2, ['BMI', 'BP']] )"
      ],
      "metadata": {
        "id": "EntGXQ-6dCRH",
        "colab": {
          "base_uri": "https://localhost:8080/"
        },
        "outputId": "cf11b4ea-886e-4510-8a7b-b5a63548d928"
      },
      "execution_count": 30,
      "outputs": [
        {
          "output_type": "stream",
          "name": "stdout",
          "text": [
            "      BMI      BP\n",
            "0    32.1  101.00\n",
            "2    30.5   93.00\n",
            "6    22.0   90.00\n",
            "7    26.2  114.00\n",
            "8    32.1   83.00\n",
            "..    ...     ...\n",
            "428  34.6  120.00\n",
            "431  23.5  101.00\n",
            "437  28.2  112.00\n",
            "438  24.9   75.00\n",
            "439  24.9   99.67\n",
            "\n",
            "[207 rows x 2 columns]\n"
          ]
        }
      ]
    },
    {
      "cell_type": "markdown",
      "source": [
        "20. Get a series of age column from the dataframe object."
      ],
      "metadata": {
        "id": "AryEDLjzdCRH"
      }
    },
    {
      "cell_type": "code",
      "source": [
        "print(new_df['AGE'])"
      ],
      "metadata": {
        "id": "PpYienXjdCRI",
        "colab": {
          "base_uri": "https://localhost:8080/"
        },
        "outputId": "2625fcd5-fe25-4c56-ce31-ee788821895f"
      },
      "execution_count": 50,
      "outputs": [
        {
          "output_type": "stream",
          "name": "stdout",
          "text": [
            "0      59\n",
            "1      48\n",
            "2      72\n",
            "3      24\n",
            "4      50\n",
            "       ..\n",
            "437    60\n",
            "438    47\n",
            "439    60\n",
            "440    36\n",
            "441    36\n",
            "Name: AGE, Length: 442, dtype: int64\n"
          ]
        }
      ]
    },
    {
      "cell_type": "markdown",
      "source": [
        "21. print the min, max and mean values for the age series."
      ],
      "metadata": {
        "id": "5Y_IA0NWdCRI"
      }
    },
    {
      "cell_type": "code",
      "source": [
        "print(new_df['AGE'].min())\n",
        "print(new_df['AGE'].max())\n",
        "print(new_df['AGE'].mean())"
      ],
      "metadata": {
        "id": "Sh38uRVMdCRI",
        "colab": {
          "base_uri": "https://localhost:8080/"
        },
        "outputId": "591d1d18-c264-4be7-804e-c14cf0cda659"
      },
      "execution_count": 38,
      "outputs": [
        {
          "output_type": "stream",
          "name": "stdout",
          "text": [
            "19\n",
            "79\n",
            "48.51809954751131\n"
          ]
        }
      ]
    },
    {
      "cell_type": "markdown",
      "source": [
        "22.print the basic information about age series"
      ],
      "metadata": {
        "id": "uBA1CklpdCRI"
      }
    },
    {
      "cell_type": "code",
      "source": [
        "print(new_df['AGE'].describe())"
      ],
      "metadata": {
        "id": "LwzjgS6kdCRI",
        "colab": {
          "base_uri": "https://localhost:8080/"
        },
        "outputId": "e8a6f002-9cf7-4add-aac1-7498321236ff"
      },
      "execution_count": 37,
      "outputs": [
        {
          "output_type": "stream",
          "name": "stdout",
          "text": [
            "count    442.000000\n",
            "mean      48.518100\n",
            "std       13.109028\n",
            "min       19.000000\n",
            "25%       38.250000\n",
            "50%       50.000000\n",
            "75%       59.000000\n",
            "max       79.000000\n",
            "Name: AGE, dtype: float64\n"
          ]
        }
      ]
    },
    {
      "cell_type": "markdown",
      "source": [
        "23.print the subset of ages that are less than mean age value"
      ],
      "metadata": {
        "id": "XAqKPL15dCRI"
      }
    },
    {
      "cell_type": "code",
      "source": [
        "mean = new_df['AGE'].mean()\n",
        "subset = new_df.loc[new_df['AGE'] < mean]\n",
        "print(subset)"
      ],
      "metadata": {
        "id": "0j_y6yHGdCRI",
        "colab": {
          "base_uri": "https://localhost:8080/"
        },
        "outputId": "836120ff-5be7-46c0-e129-052699cd621d"
      },
      "execution_count": 41,
      "outputs": [
        {
          "output_type": "stream",
          "name": "stdout",
          "text": [
            "     AGE  SEX   BMI    BP   S1     S2    S3    S4      S5   S6    Y\n",
            "1     48    1  21.6  87.0  183  103.2  70.0  3.00  3.8918   69   75\n",
            "3     24    1  25.3  84.0  198  131.4  40.0  5.00  4.8903   89  206\n",
            "5     23    1  22.6  89.0  139   64.8  61.0  2.00  4.1897   68   97\n",
            "6     36    2  22.0  90.0  160   99.6  50.0  3.00  3.9512   82  138\n",
            "9     29    1  30.0  85.0  180   93.4  43.0  4.00  5.3845   88  310\n",
            "..   ...  ...   ...   ...  ...    ...   ...   ...     ...  ...  ...\n",
            "435   45    1  24.2  83.0  177  118.4  45.0  4.00  4.2195   82   64\n",
            "436   33    1  19.5  80.0  171   85.4  75.0  2.00  3.9703   80   48\n",
            "438   47    2  24.9  75.0  225  166.0  42.0  5.00  4.4427  102  104\n",
            "440   36    1  30.0  95.0  201  125.2  42.0  4.79  5.1299   85  220\n",
            "441   36    1  19.6  71.0  250  133.2  97.0  3.00  4.5951   92   57\n",
            "\n",
            "[202 rows x 11 columns]\n"
          ]
        }
      ]
    },
    {
      "cell_type": "markdown",
      "source": [
        "24.Sort the age series and print sorted values."
      ],
      "metadata": {
        "id": "FaZzGp9NdCRJ"
      }
    },
    {
      "cell_type": "code",
      "source": [
        "print(new_df['AGE'].sort_values())"
      ],
      "metadata": {
        "id": "e8glnjlEdCRJ",
        "colab": {
          "base_uri": "https://localhost:8080/"
        },
        "outputId": "29e7e760-c869-419c-e010-08022686e3b1"
      },
      "execution_count": 45,
      "outputs": [
        {
          "output_type": "stream",
          "name": "stdout",
          "text": [
            "26     19\n",
            "374    19\n",
            "344    19\n",
            "79     20\n",
            "226    20\n",
            "       ..\n",
            "211    74\n",
            "311    75\n",
            "321    75\n",
            "402    79\n",
            "204    79\n",
            "Name: AGE, Length: 442, dtype: int64\n"
          ]
        }
      ]
    },
    {
      "cell_type": "markdown",
      "source": [
        "25.print all the unique values from the age series."
      ],
      "metadata": {
        "id": "_850XmVJdCRJ"
      }
    },
    {
      "cell_type": "code",
      "source": [
        "print(new_df['AGE'].unique())"
      ],
      "metadata": {
        "id": "TA2_7DgYdCRJ",
        "colab": {
          "base_uri": "https://localhost:8080/"
        },
        "outputId": "da6e0434-6e23-4a92-875c-697852351e18"
      },
      "execution_count": 46,
      "outputs": [
        {
          "output_type": "stream",
          "name": "stdout",
          "text": [
            "[59 48 72 24 50 23 36 66 60 29 22 56 53 61 34 47 68 38 41 35 25 31 30 19\n",
            " 42 63 67 32 58 57 62 52 46 21 54 33 27 37 65 39 40 20 44 49 43 64 55 51\n",
            " 28 45 26 71 79 74 69 70 75 73]\n"
          ]
        }
      ]
    }
  ]
}