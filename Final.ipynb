{
  "metadata": {
    "kernelspec": {
      "display_name": "Python (Pyodide)",
      "language": "python",
      "name": "python"
    },
    "language_info": {
      "codemirror_mode": {
        "name": "python",
        "version": 3
      },
      "file_extension": ".py",
      "mimetype": "text/x-python",
      "name": "python",
      "nbconvert_exporter": "python",
      "pygments_lexer": "ipython3",
      "version": "3.8"
    },
    "colab": {
      "provenance": []
    }
  },
  "nbformat_minor": 4,
  "nbformat": 4,
  "cells": [
    {
      "cell_type": "markdown",
      "source": "# AIG150 Final Exam - Fall 2024\n## Max Marks = *75/75*\n## Time Allowed = *60 Minutes*\n\n## Instructions\n- You are allowed to bring a reference sheet (A4-both sided).\n- Print your name on top of the reference sheet. The sheet **must be submitted with the exam.**\n- As a Seneca student, you must conduct yourself in an honest and trustworthy manner in all aspects of your academic career. A dishonest attempt to obtain an academic advantage is considered an offense and will **not** be tolerated by the College.\n\n- Rename the file with the student’s name.\n- Once you are done, upload the file on BB **(ONLY ONE SUBMISSION IS ALLOWED)**.\n- The exam contains **15** questions in total.\n- Each question is worth **5** marks [Total **75** marks].",
      "metadata": {
        "id": "lRezksWMGPxs"
      }
    },
    {
      "cell_type": "markdown",
      "source": "Download the three csv files from BlackBoard (THREE IN TOTAL):\n- customer.csv\n- height_weight.csv\n- invoice.csv",
      "metadata": {
        "id": "412_K5x_G30v"
      }
    },
    {
      "cell_type": "code",
      "source": "import pandas as pd\nhw=pd.read_csv('height_weight.csv')\nhw",
      "metadata": {
        "trusted": true,
        "id": "5we8zfO9GAgR"
      },
      "outputs": [
        {
          "execution_count": 3,
          "output_type": "execute_result",
          "data": {
            "text/plain": "        sex    tv  computer  sleep  height  momheight  dadheight  exercise  \\\n0    Female  13.0      10.0    3.5    66.0       66.0       71.0      10.0   \n1      Male  20.0       7.0    9.0    72.0       64.0       65.0       2.0   \n2      Male  15.0      15.0    6.0    68.0       62.0       74.0       3.0   \n3      Male   8.0      20.0    6.0    68.0       59.0       70.0       6.0   \n4    Female   2.5      10.0    5.0    64.0       65.0       70.0       6.5   \n..      ...   ...       ...    ...     ...        ...        ...       ...   \n143  Female   5.0      35.0    5.0    65.0       69.0       72.0       5.0   \n144    Male   8.0      32.0    6.0    72.0       65.0       71.0       1.5   \n145    Male   9.0       7.0    7.0    75.0       68.0       74.0       7.0   \n146    Male   1.0      10.0    5.0    72.0       60.0       74.0       3.0   \n147  Female   5.0       2.0    6.0    64.0       62.0       66.0       6.0   \n\n      gpa  \n0    4.00  \n1    2.30  \n2    2.60  \n3    2.80  \n4    2.62  \n..    ...  \n143  2.18  \n144  2.80  \n145  3.50  \n146  4.00  \n147  4.00  \n\n[148 rows x 9 columns]",
            "text/html": "<div>\n<style scoped>\n    .dataframe tbody tr th:only-of-type {\n        vertical-align: middle;\n    }\n\n    .dataframe tbody tr th {\n        vertical-align: top;\n    }\n\n    .dataframe thead th {\n        text-align: right;\n    }\n</style>\n<table border=\"1\" class=\"dataframe\">\n  <thead>\n    <tr style=\"text-align: right;\">\n      <th></th>\n      <th>sex</th>\n      <th>tv</th>\n      <th>computer</th>\n      <th>sleep</th>\n      <th>height</th>\n      <th>momheight</th>\n      <th>dadheight</th>\n      <th>exercise</th>\n      <th>gpa</th>\n    </tr>\n  </thead>\n  <tbody>\n    <tr>\n      <th>0</th>\n      <td>Female</td>\n      <td>13.0</td>\n      <td>10.0</td>\n      <td>3.5</td>\n      <td>66.0</td>\n      <td>66.0</td>\n      <td>71.0</td>\n      <td>10.0</td>\n      <td>4.00</td>\n    </tr>\n    <tr>\n      <th>1</th>\n      <td>Male</td>\n      <td>20.0</td>\n      <td>7.0</td>\n      <td>9.0</td>\n      <td>72.0</td>\n      <td>64.0</td>\n      <td>65.0</td>\n      <td>2.0</td>\n      <td>2.30</td>\n    </tr>\n    <tr>\n      <th>2</th>\n      <td>Male</td>\n      <td>15.0</td>\n      <td>15.0</td>\n      <td>6.0</td>\n      <td>68.0</td>\n      <td>62.0</td>\n      <td>74.0</td>\n      <td>3.0</td>\n      <td>2.60</td>\n    </tr>\n    <tr>\n      <th>3</th>\n      <td>Male</td>\n      <td>8.0</td>\n      <td>20.0</td>\n      <td>6.0</td>\n      <td>68.0</td>\n      <td>59.0</td>\n      <td>70.0</td>\n      <td>6.0</td>\n      <td>2.80</td>\n    </tr>\n    <tr>\n      <th>4</th>\n      <td>Female</td>\n      <td>2.5</td>\n      <td>10.0</td>\n      <td>5.0</td>\n      <td>64.0</td>\n      <td>65.0</td>\n      <td>70.0</td>\n      <td>6.5</td>\n      <td>2.62</td>\n    </tr>\n    <tr>\n      <th>...</th>\n      <td>...</td>\n      <td>...</td>\n      <td>...</td>\n      <td>...</td>\n      <td>...</td>\n      <td>...</td>\n      <td>...</td>\n      <td>...</td>\n      <td>...</td>\n    </tr>\n    <tr>\n      <th>143</th>\n      <td>Female</td>\n      <td>5.0</td>\n      <td>35.0</td>\n      <td>5.0</td>\n      <td>65.0</td>\n      <td>69.0</td>\n      <td>72.0</td>\n      <td>5.0</td>\n      <td>2.18</td>\n    </tr>\n    <tr>\n      <th>144</th>\n      <td>Male</td>\n      <td>8.0</td>\n      <td>32.0</td>\n      <td>6.0</td>\n      <td>72.0</td>\n      <td>65.0</td>\n      <td>71.0</td>\n      <td>1.5</td>\n      <td>2.80</td>\n    </tr>\n    <tr>\n      <th>145</th>\n      <td>Male</td>\n      <td>9.0</td>\n      <td>7.0</td>\n      <td>7.0</td>\n      <td>75.0</td>\n      <td>68.0</td>\n      <td>74.0</td>\n      <td>7.0</td>\n      <td>3.50</td>\n    </tr>\n    <tr>\n      <th>146</th>\n      <td>Male</td>\n      <td>1.0</td>\n      <td>10.0</td>\n      <td>5.0</td>\n      <td>72.0</td>\n      <td>60.0</td>\n      <td>74.0</td>\n      <td>3.0</td>\n      <td>4.00</td>\n    </tr>\n    <tr>\n      <th>147</th>\n      <td>Female</td>\n      <td>5.0</td>\n      <td>2.0</td>\n      <td>6.0</td>\n      <td>64.0</td>\n      <td>62.0</td>\n      <td>66.0</td>\n      <td>6.0</td>\n      <td>4.00</td>\n    </tr>\n  </tbody>\n</table>\n<p>148 rows × 9 columns</p>\n</div>"
          },
          "metadata": {}
        }
      ],
      "execution_count": 3
    },
    {
      "cell_type": "markdown",
      "source": "# Using dataframe hw, complete questions 1-10.",
      "metadata": {
        "id": "nyjM9O-yG8aJ"
      }
    },
    {
      "cell_type": "markdown",
      "source": "1. Replace all female occurrences with 'f' and all male occurrences with 'm' under the sex column in the hw dataframe.",
      "metadata": {
        "id": "oQGM3zu8HJEz"
      }
    },
    {
      "cell_type": "code",
      "source": "hw['sex'] = hw['sex'].replace('Female', 'f')\nhw['sex'] = hw['sex'].replace('Male', 'm')\nhw",
      "metadata": {
        "id": "gl3a6oAxHTVb",
        "trusted": true
      },
      "outputs": [
        {
          "execution_count": 5,
          "output_type": "execute_result",
          "data": {
            "text/plain": "    sex    tv  computer  sleep  height  momheight  dadheight  exercise   gpa\n0     f  13.0      10.0    3.5    66.0       66.0       71.0      10.0  4.00\n1     m  20.0       7.0    9.0    72.0       64.0       65.0       2.0  2.30\n2     m  15.0      15.0    6.0    68.0       62.0       74.0       3.0  2.60\n3     m   8.0      20.0    6.0    68.0       59.0       70.0       6.0  2.80\n4     f   2.5      10.0    5.0    64.0       65.0       70.0       6.5  2.62\n..   ..   ...       ...    ...     ...        ...        ...       ...   ...\n143   f   5.0      35.0    5.0    65.0       69.0       72.0       5.0  2.18\n144   m   8.0      32.0    6.0    72.0       65.0       71.0       1.5  2.80\n145   m   9.0       7.0    7.0    75.0       68.0       74.0       7.0  3.50\n146   m   1.0      10.0    5.0    72.0       60.0       74.0       3.0  4.00\n147   f   5.0       2.0    6.0    64.0       62.0       66.0       6.0  4.00\n\n[148 rows x 9 columns]",
            "text/html": "<div>\n<style scoped>\n    .dataframe tbody tr th:only-of-type {\n        vertical-align: middle;\n    }\n\n    .dataframe tbody tr th {\n        vertical-align: top;\n    }\n\n    .dataframe thead th {\n        text-align: right;\n    }\n</style>\n<table border=\"1\" class=\"dataframe\">\n  <thead>\n    <tr style=\"text-align: right;\">\n      <th></th>\n      <th>sex</th>\n      <th>tv</th>\n      <th>computer</th>\n      <th>sleep</th>\n      <th>height</th>\n      <th>momheight</th>\n      <th>dadheight</th>\n      <th>exercise</th>\n      <th>gpa</th>\n    </tr>\n  </thead>\n  <tbody>\n    <tr>\n      <th>0</th>\n      <td>f</td>\n      <td>13.0</td>\n      <td>10.0</td>\n      <td>3.5</td>\n      <td>66.0</td>\n      <td>66.0</td>\n      <td>71.0</td>\n      <td>10.0</td>\n      <td>4.00</td>\n    </tr>\n    <tr>\n      <th>1</th>\n      <td>m</td>\n      <td>20.0</td>\n      <td>7.0</td>\n      <td>9.0</td>\n      <td>72.0</td>\n      <td>64.0</td>\n      <td>65.0</td>\n      <td>2.0</td>\n      <td>2.30</td>\n    </tr>\n    <tr>\n      <th>2</th>\n      <td>m</td>\n      <td>15.0</td>\n      <td>15.0</td>\n      <td>6.0</td>\n      <td>68.0</td>\n      <td>62.0</td>\n      <td>74.0</td>\n      <td>3.0</td>\n      <td>2.60</td>\n    </tr>\n    <tr>\n      <th>3</th>\n      <td>m</td>\n      <td>8.0</td>\n      <td>20.0</td>\n      <td>6.0</td>\n      <td>68.0</td>\n      <td>59.0</td>\n      <td>70.0</td>\n      <td>6.0</td>\n      <td>2.80</td>\n    </tr>\n    <tr>\n      <th>4</th>\n      <td>f</td>\n      <td>2.5</td>\n      <td>10.0</td>\n      <td>5.0</td>\n      <td>64.0</td>\n      <td>65.0</td>\n      <td>70.0</td>\n      <td>6.5</td>\n      <td>2.62</td>\n    </tr>\n    <tr>\n      <th>...</th>\n      <td>...</td>\n      <td>...</td>\n      <td>...</td>\n      <td>...</td>\n      <td>...</td>\n      <td>...</td>\n      <td>...</td>\n      <td>...</td>\n      <td>...</td>\n    </tr>\n    <tr>\n      <th>143</th>\n      <td>f</td>\n      <td>5.0</td>\n      <td>35.0</td>\n      <td>5.0</td>\n      <td>65.0</td>\n      <td>69.0</td>\n      <td>72.0</td>\n      <td>5.0</td>\n      <td>2.18</td>\n    </tr>\n    <tr>\n      <th>144</th>\n      <td>m</td>\n      <td>8.0</td>\n      <td>32.0</td>\n      <td>6.0</td>\n      <td>72.0</td>\n      <td>65.0</td>\n      <td>71.0</td>\n      <td>1.5</td>\n      <td>2.80</td>\n    </tr>\n    <tr>\n      <th>145</th>\n      <td>m</td>\n      <td>9.0</td>\n      <td>7.0</td>\n      <td>7.0</td>\n      <td>75.0</td>\n      <td>68.0</td>\n      <td>74.0</td>\n      <td>7.0</td>\n      <td>3.50</td>\n    </tr>\n    <tr>\n      <th>146</th>\n      <td>m</td>\n      <td>1.0</td>\n      <td>10.0</td>\n      <td>5.0</td>\n      <td>72.0</td>\n      <td>60.0</td>\n      <td>74.0</td>\n      <td>3.0</td>\n      <td>4.00</td>\n    </tr>\n    <tr>\n      <th>147</th>\n      <td>f</td>\n      <td>5.0</td>\n      <td>2.0</td>\n      <td>6.0</td>\n      <td>64.0</td>\n      <td>62.0</td>\n      <td>66.0</td>\n      <td>6.0</td>\n      <td>4.00</td>\n    </tr>\n  </tbody>\n</table>\n<p>148 rows × 9 columns</p>\n</div>"
          },
          "metadata": {}
        }
      ],
      "execution_count": 5
    },
    {
      "cell_type": "markdown",
      "source": "2. Add a column named 'tall' to the hw dataframe, that takes the value \"1\" if height is greater than the height of mom and dad, and '0' otherwise.",
      "metadata": {
        "id": "NPiXZrQ8HNoV"
      }
    },
    {
      "cell_type": "code",
      "source": "hw['tall'] = 0\nhw.loc[(hw['height'] > hw['momheight']) & (hw['height'] > hw['dadheight']), 'tall'] = 1\nhw",
      "metadata": {
        "trusted": true,
        "id": "K30x6O1nGAgT"
      },
      "outputs": [
        {
          "execution_count": 6,
          "output_type": "execute_result",
          "data": {
            "text/plain": "    sex    tv  computer  sleep  height  momheight  dadheight  exercise   gpa  \\\n0     f  13.0      10.0    3.5    66.0       66.0       71.0      10.0  4.00   \n1     m  20.0       7.0    9.0    72.0       64.0       65.0       2.0  2.30   \n2     m  15.0      15.0    6.0    68.0       62.0       74.0       3.0  2.60   \n3     m   8.0      20.0    6.0    68.0       59.0       70.0       6.0  2.80   \n4     f   2.5      10.0    5.0    64.0       65.0       70.0       6.5  2.62   \n..   ..   ...       ...    ...     ...        ...        ...       ...   ...   \n143   f   5.0      35.0    5.0    65.0       69.0       72.0       5.0  2.18   \n144   m   8.0      32.0    6.0    72.0       65.0       71.0       1.5  2.80   \n145   m   9.0       7.0    7.0    75.0       68.0       74.0       7.0  3.50   \n146   m   1.0      10.0    5.0    72.0       60.0       74.0       3.0  4.00   \n147   f   5.0       2.0    6.0    64.0       62.0       66.0       6.0  4.00   \n\n     tall  \n0       0  \n1       1  \n2       0  \n3       0  \n4       0  \n..    ...  \n143     0  \n144     1  \n145     1  \n146     0  \n147     0  \n\n[148 rows x 10 columns]",
            "text/html": "<div>\n<style scoped>\n    .dataframe tbody tr th:only-of-type {\n        vertical-align: middle;\n    }\n\n    .dataframe tbody tr th {\n        vertical-align: top;\n    }\n\n    .dataframe thead th {\n        text-align: right;\n    }\n</style>\n<table border=\"1\" class=\"dataframe\">\n  <thead>\n    <tr style=\"text-align: right;\">\n      <th></th>\n      <th>sex</th>\n      <th>tv</th>\n      <th>computer</th>\n      <th>sleep</th>\n      <th>height</th>\n      <th>momheight</th>\n      <th>dadheight</th>\n      <th>exercise</th>\n      <th>gpa</th>\n      <th>tall</th>\n    </tr>\n  </thead>\n  <tbody>\n    <tr>\n      <th>0</th>\n      <td>f</td>\n      <td>13.0</td>\n      <td>10.0</td>\n      <td>3.5</td>\n      <td>66.0</td>\n      <td>66.0</td>\n      <td>71.0</td>\n      <td>10.0</td>\n      <td>4.00</td>\n      <td>0</td>\n    </tr>\n    <tr>\n      <th>1</th>\n      <td>m</td>\n      <td>20.0</td>\n      <td>7.0</td>\n      <td>9.0</td>\n      <td>72.0</td>\n      <td>64.0</td>\n      <td>65.0</td>\n      <td>2.0</td>\n      <td>2.30</td>\n      <td>1</td>\n    </tr>\n    <tr>\n      <th>2</th>\n      <td>m</td>\n      <td>15.0</td>\n      <td>15.0</td>\n      <td>6.0</td>\n      <td>68.0</td>\n      <td>62.0</td>\n      <td>74.0</td>\n      <td>3.0</td>\n      <td>2.60</td>\n      <td>0</td>\n    </tr>\n    <tr>\n      <th>3</th>\n      <td>m</td>\n      <td>8.0</td>\n      <td>20.0</td>\n      <td>6.0</td>\n      <td>68.0</td>\n      <td>59.0</td>\n      <td>70.0</td>\n      <td>6.0</td>\n      <td>2.80</td>\n      <td>0</td>\n    </tr>\n    <tr>\n      <th>4</th>\n      <td>f</td>\n      <td>2.5</td>\n      <td>10.0</td>\n      <td>5.0</td>\n      <td>64.0</td>\n      <td>65.0</td>\n      <td>70.0</td>\n      <td>6.5</td>\n      <td>2.62</td>\n      <td>0</td>\n    </tr>\n    <tr>\n      <th>...</th>\n      <td>...</td>\n      <td>...</td>\n      <td>...</td>\n      <td>...</td>\n      <td>...</td>\n      <td>...</td>\n      <td>...</td>\n      <td>...</td>\n      <td>...</td>\n      <td>...</td>\n    </tr>\n    <tr>\n      <th>143</th>\n      <td>f</td>\n      <td>5.0</td>\n      <td>35.0</td>\n      <td>5.0</td>\n      <td>65.0</td>\n      <td>69.0</td>\n      <td>72.0</td>\n      <td>5.0</td>\n      <td>2.18</td>\n      <td>0</td>\n    </tr>\n    <tr>\n      <th>144</th>\n      <td>m</td>\n      <td>8.0</td>\n      <td>32.0</td>\n      <td>6.0</td>\n      <td>72.0</td>\n      <td>65.0</td>\n      <td>71.0</td>\n      <td>1.5</td>\n      <td>2.80</td>\n      <td>1</td>\n    </tr>\n    <tr>\n      <th>145</th>\n      <td>m</td>\n      <td>9.0</td>\n      <td>7.0</td>\n      <td>7.0</td>\n      <td>75.0</td>\n      <td>68.0</td>\n      <td>74.0</td>\n      <td>7.0</td>\n      <td>3.50</td>\n      <td>1</td>\n    </tr>\n    <tr>\n      <th>146</th>\n      <td>m</td>\n      <td>1.0</td>\n      <td>10.0</td>\n      <td>5.0</td>\n      <td>72.0</td>\n      <td>60.0</td>\n      <td>74.0</td>\n      <td>3.0</td>\n      <td>4.00</td>\n      <td>0</td>\n    </tr>\n    <tr>\n      <th>147</th>\n      <td>f</td>\n      <td>5.0</td>\n      <td>2.0</td>\n      <td>6.0</td>\n      <td>64.0</td>\n      <td>62.0</td>\n      <td>66.0</td>\n      <td>6.0</td>\n      <td>4.00</td>\n      <td>0</td>\n    </tr>\n  </tbody>\n</table>\n<p>148 rows × 10 columns</p>\n</div>"
          },
          "metadata": {}
        }
      ],
      "execution_count": 6
    },
    {
      "cell_type": "markdown",
      "source": "3. Write the code to show the rows of the hw dataframe where there are outliers for the \"sleep\" variable.\n- Outliers should be considered based on the mean and standard deviation method.\n- Any value greater than the mean+2std_dev or lower than mean +2std_dev is considered as outlier.",
      "metadata": {
        "id": "v4IbfTcTHU-h"
      }
    },
    {
      "cell_type": "code",
      "source": "mean = hw['sleep'].mean()\nstd = hw['sleep'].std()\n\nhw[(hw['sleep'] > mean + 2 * std) | (hw['sleep'] < mean - 2 * std)]",
      "metadata": {
        "trusted": true,
        "id": "84g96HF5GAgV"
      },
      "outputs": [
        {
          "execution_count": 8,
          "output_type": "execute_result",
          "data": {
            "text/plain": "    sex    tv  computer  sleep  height  momheight  dadheight  exercise   gpa  \\\n0     f  13.0      10.0    3.5    66.0       66.0       71.0      10.0  4.00   \n42    m   0.0      30.0    3.5    69.0       63.0       65.0       6.0  3.04   \n46    f   2.0      10.0   11.0    64.0       62.0       68.0       2.0  3.06   \n63    m  10.0       5.0    2.0    66.0       60.0       65.0       1.0   NaN   \n69    m   0.0      10.0   12.0    71.0       64.0       72.0       2.0  1.85   \n95    f  35.0      21.0   10.5    63.0       68.0       75.0       2.5  2.83   \n110   f   1.0      13.5    3.0    62.0       60.0       68.0       3.0  3.90   \n\n     tall  \n0       0  \n42      1  \n46      0  \n63      1  \n69      0  \n95      0  \n110     0  ",
            "text/html": "<div>\n<style scoped>\n    .dataframe tbody tr th:only-of-type {\n        vertical-align: middle;\n    }\n\n    .dataframe tbody tr th {\n        vertical-align: top;\n    }\n\n    .dataframe thead th {\n        text-align: right;\n    }\n</style>\n<table border=\"1\" class=\"dataframe\">\n  <thead>\n    <tr style=\"text-align: right;\">\n      <th></th>\n      <th>sex</th>\n      <th>tv</th>\n      <th>computer</th>\n      <th>sleep</th>\n      <th>height</th>\n      <th>momheight</th>\n      <th>dadheight</th>\n      <th>exercise</th>\n      <th>gpa</th>\n      <th>tall</th>\n    </tr>\n  </thead>\n  <tbody>\n    <tr>\n      <th>0</th>\n      <td>f</td>\n      <td>13.0</td>\n      <td>10.0</td>\n      <td>3.5</td>\n      <td>66.0</td>\n      <td>66.0</td>\n      <td>71.0</td>\n      <td>10.0</td>\n      <td>4.00</td>\n      <td>0</td>\n    </tr>\n    <tr>\n      <th>42</th>\n      <td>m</td>\n      <td>0.0</td>\n      <td>30.0</td>\n      <td>3.5</td>\n      <td>69.0</td>\n      <td>63.0</td>\n      <td>65.0</td>\n      <td>6.0</td>\n      <td>3.04</td>\n      <td>1</td>\n    </tr>\n    <tr>\n      <th>46</th>\n      <td>f</td>\n      <td>2.0</td>\n      <td>10.0</td>\n      <td>11.0</td>\n      <td>64.0</td>\n      <td>62.0</td>\n      <td>68.0</td>\n      <td>2.0</td>\n      <td>3.06</td>\n      <td>0</td>\n    </tr>\n    <tr>\n      <th>63</th>\n      <td>m</td>\n      <td>10.0</td>\n      <td>5.0</td>\n      <td>2.0</td>\n      <td>66.0</td>\n      <td>60.0</td>\n      <td>65.0</td>\n      <td>1.0</td>\n      <td>NaN</td>\n      <td>1</td>\n    </tr>\n    <tr>\n      <th>69</th>\n      <td>m</td>\n      <td>0.0</td>\n      <td>10.0</td>\n      <td>12.0</td>\n      <td>71.0</td>\n      <td>64.0</td>\n      <td>72.0</td>\n      <td>2.0</td>\n      <td>1.85</td>\n      <td>0</td>\n    </tr>\n    <tr>\n      <th>95</th>\n      <td>f</td>\n      <td>35.0</td>\n      <td>21.0</td>\n      <td>10.5</td>\n      <td>63.0</td>\n      <td>68.0</td>\n      <td>75.0</td>\n      <td>2.5</td>\n      <td>2.83</td>\n      <td>0</td>\n    </tr>\n    <tr>\n      <th>110</th>\n      <td>f</td>\n      <td>1.0</td>\n      <td>13.5</td>\n      <td>3.0</td>\n      <td>62.0</td>\n      <td>60.0</td>\n      <td>68.0</td>\n      <td>3.0</td>\n      <td>3.90</td>\n      <td>0</td>\n    </tr>\n  </tbody>\n</table>\n</div>"
          },
          "metadata": {}
        }
      ],
      "execution_count": 8
    },
    {
      "cell_type": "markdown",
      "source": "4. For female observations, replace the missing values under the gpa column with the mean gpa for all female observations.",
      "metadata": {
        "id": "R4V75FpQHmuP"
      }
    },
    {
      "cell_type": "code",
      "source": "mean_gpa_female = hw[hw['sex'] == 'f']['gpa'].mean()\n\nhw.loc[(hw['sex'] == 'f') & (hw['gpa'].isnull()), 'gpa'] = mean_gpa_female",
      "metadata": {
        "trusted": true,
        "id": "8hF0LcKTGAgW"
      },
      "outputs": [],
      "execution_count": 9
    },
    {
      "cell_type": "markdown",
      "source": "5. Use iloc and slice method to slice the first 4 columns of the dataset, keep all rows.\n- Save the sliced subset in a dataframe called subset, then show the first 5 observations of dataframe subset.",
      "metadata": {
        "id": "ZdPzxTjxHqgH"
      }
    },
    {
      "cell_type": "code",
      "source": "subset = hw.iloc[:, :4]\nsubset.head()",
      "metadata": {
        "trusted": true,
        "id": "ojsHJlyYGAgW"
      },
      "outputs": [
        {
          "execution_count": 10,
          "output_type": "execute_result",
          "data": {
            "text/plain": "  sex    tv  computer  sleep\n0   f  13.0      10.0    3.5\n1   m  20.0       7.0    9.0\n2   m  15.0      15.0    6.0\n3   m   8.0      20.0    6.0\n4   f   2.5      10.0    5.0",
            "text/html": "<div>\n<style scoped>\n    .dataframe tbody tr th:only-of-type {\n        vertical-align: middle;\n    }\n\n    .dataframe tbody tr th {\n        vertical-align: top;\n    }\n\n    .dataframe thead th {\n        text-align: right;\n    }\n</style>\n<table border=\"1\" class=\"dataframe\">\n  <thead>\n    <tr style=\"text-align: right;\">\n      <th></th>\n      <th>sex</th>\n      <th>tv</th>\n      <th>computer</th>\n      <th>sleep</th>\n    </tr>\n  </thead>\n  <tbody>\n    <tr>\n      <th>0</th>\n      <td>f</td>\n      <td>13.0</td>\n      <td>10.0</td>\n      <td>3.5</td>\n    </tr>\n    <tr>\n      <th>1</th>\n      <td>m</td>\n      <td>20.0</td>\n      <td>7.0</td>\n      <td>9.0</td>\n    </tr>\n    <tr>\n      <th>2</th>\n      <td>m</td>\n      <td>15.0</td>\n      <td>15.0</td>\n      <td>6.0</td>\n    </tr>\n    <tr>\n      <th>3</th>\n      <td>m</td>\n      <td>8.0</td>\n      <td>20.0</td>\n      <td>6.0</td>\n    </tr>\n    <tr>\n      <th>4</th>\n      <td>f</td>\n      <td>2.5</td>\n      <td>10.0</td>\n      <td>5.0</td>\n    </tr>\n  </tbody>\n</table>\n</div>"
          },
          "metadata": {}
        }
      ],
      "execution_count": 10
    },
    {
      "cell_type": "markdown",
      "source": "6. Add a new column named \"healthy\" in the hw dataframe.\n- Use a lambda function to fill this column with \"1\" if number of hours spent on exercise is greater than 5, and \"0\" otherwise.\n- Print the resulting dataframe hw.",
      "metadata": {
        "id": "KHomqoMeHuo6"
      }
    },
    {
      "cell_type": "code",
      "source": "hw['healthy'] = hw['exercise'].apply(lambda x: 1 if x > 5 else 0)\nhw",
      "metadata": {
        "trusted": true,
        "id": "1T4eGAYyGAgX"
      },
      "outputs": [
        {
          "execution_count": 11,
          "output_type": "execute_result",
          "data": {
            "text/plain": "    sex    tv  computer  sleep  height  momheight  dadheight  exercise   gpa  \\\n0     f  13.0      10.0    3.5    66.0       66.0       71.0      10.0  4.00   \n1     m  20.0       7.0    9.0    72.0       64.0       65.0       2.0  2.30   \n2     m  15.0      15.0    6.0    68.0       62.0       74.0       3.0  2.60   \n3     m   8.0      20.0    6.0    68.0       59.0       70.0       6.0  2.80   \n4     f   2.5      10.0    5.0    64.0       65.0       70.0       6.5  2.62   \n..   ..   ...       ...    ...     ...        ...        ...       ...   ...   \n143   f   5.0      35.0    5.0    65.0       69.0       72.0       5.0  2.18   \n144   m   8.0      32.0    6.0    72.0       65.0       71.0       1.5  2.80   \n145   m   9.0       7.0    7.0    75.0       68.0       74.0       7.0  3.50   \n146   m   1.0      10.0    5.0    72.0       60.0       74.0       3.0  4.00   \n147   f   5.0       2.0    6.0    64.0       62.0       66.0       6.0  4.00   \n\n     tall  healthy  \n0       0        1  \n1       1        0  \n2       0        0  \n3       0        1  \n4       0        1  \n..    ...      ...  \n143     0        0  \n144     1        0  \n145     1        1  \n146     0        0  \n147     0        1  \n\n[148 rows x 11 columns]",
            "text/html": "<div>\n<style scoped>\n    .dataframe tbody tr th:only-of-type {\n        vertical-align: middle;\n    }\n\n    .dataframe tbody tr th {\n        vertical-align: top;\n    }\n\n    .dataframe thead th {\n        text-align: right;\n    }\n</style>\n<table border=\"1\" class=\"dataframe\">\n  <thead>\n    <tr style=\"text-align: right;\">\n      <th></th>\n      <th>sex</th>\n      <th>tv</th>\n      <th>computer</th>\n      <th>sleep</th>\n      <th>height</th>\n      <th>momheight</th>\n      <th>dadheight</th>\n      <th>exercise</th>\n      <th>gpa</th>\n      <th>tall</th>\n      <th>healthy</th>\n    </tr>\n  </thead>\n  <tbody>\n    <tr>\n      <th>0</th>\n      <td>f</td>\n      <td>13.0</td>\n      <td>10.0</td>\n      <td>3.5</td>\n      <td>66.0</td>\n      <td>66.0</td>\n      <td>71.0</td>\n      <td>10.0</td>\n      <td>4.00</td>\n      <td>0</td>\n      <td>1</td>\n    </tr>\n    <tr>\n      <th>1</th>\n      <td>m</td>\n      <td>20.0</td>\n      <td>7.0</td>\n      <td>9.0</td>\n      <td>72.0</td>\n      <td>64.0</td>\n      <td>65.0</td>\n      <td>2.0</td>\n      <td>2.30</td>\n      <td>1</td>\n      <td>0</td>\n    </tr>\n    <tr>\n      <th>2</th>\n      <td>m</td>\n      <td>15.0</td>\n      <td>15.0</td>\n      <td>6.0</td>\n      <td>68.0</td>\n      <td>62.0</td>\n      <td>74.0</td>\n      <td>3.0</td>\n      <td>2.60</td>\n      <td>0</td>\n      <td>0</td>\n    </tr>\n    <tr>\n      <th>3</th>\n      <td>m</td>\n      <td>8.0</td>\n      <td>20.0</td>\n      <td>6.0</td>\n      <td>68.0</td>\n      <td>59.0</td>\n      <td>70.0</td>\n      <td>6.0</td>\n      <td>2.80</td>\n      <td>0</td>\n      <td>1</td>\n    </tr>\n    <tr>\n      <th>4</th>\n      <td>f</td>\n      <td>2.5</td>\n      <td>10.0</td>\n      <td>5.0</td>\n      <td>64.0</td>\n      <td>65.0</td>\n      <td>70.0</td>\n      <td>6.5</td>\n      <td>2.62</td>\n      <td>0</td>\n      <td>1</td>\n    </tr>\n    <tr>\n      <th>...</th>\n      <td>...</td>\n      <td>...</td>\n      <td>...</td>\n      <td>...</td>\n      <td>...</td>\n      <td>...</td>\n      <td>...</td>\n      <td>...</td>\n      <td>...</td>\n      <td>...</td>\n      <td>...</td>\n    </tr>\n    <tr>\n      <th>143</th>\n      <td>f</td>\n      <td>5.0</td>\n      <td>35.0</td>\n      <td>5.0</td>\n      <td>65.0</td>\n      <td>69.0</td>\n      <td>72.0</td>\n      <td>5.0</td>\n      <td>2.18</td>\n      <td>0</td>\n      <td>0</td>\n    </tr>\n    <tr>\n      <th>144</th>\n      <td>m</td>\n      <td>8.0</td>\n      <td>32.0</td>\n      <td>6.0</td>\n      <td>72.0</td>\n      <td>65.0</td>\n      <td>71.0</td>\n      <td>1.5</td>\n      <td>2.80</td>\n      <td>1</td>\n      <td>0</td>\n    </tr>\n    <tr>\n      <th>145</th>\n      <td>m</td>\n      <td>9.0</td>\n      <td>7.0</td>\n      <td>7.0</td>\n      <td>75.0</td>\n      <td>68.0</td>\n      <td>74.0</td>\n      <td>7.0</td>\n      <td>3.50</td>\n      <td>1</td>\n      <td>1</td>\n    </tr>\n    <tr>\n      <th>146</th>\n      <td>m</td>\n      <td>1.0</td>\n      <td>10.0</td>\n      <td>5.0</td>\n      <td>72.0</td>\n      <td>60.0</td>\n      <td>74.0</td>\n      <td>3.0</td>\n      <td>4.00</td>\n      <td>0</td>\n      <td>0</td>\n    </tr>\n    <tr>\n      <th>147</th>\n      <td>f</td>\n      <td>5.0</td>\n      <td>2.0</td>\n      <td>6.0</td>\n      <td>64.0</td>\n      <td>62.0</td>\n      <td>66.0</td>\n      <td>6.0</td>\n      <td>4.00</td>\n      <td>0</td>\n      <td>1</td>\n    </tr>\n  </tbody>\n</table>\n<p>148 rows × 11 columns</p>\n</div>"
          },
          "metadata": {}
        }
      ],
      "execution_count": 11
    },
    {
      "cell_type": "markdown",
      "source": "7. Create a histogram to show the frequency of male and female observations.",
      "metadata": {
        "id": "Uc-EY9oyH3B3"
      }
    },
    {
      "cell_type": "code",
      "source": "import matplotlib",
      "metadata": {
        "trusted": true
      },
      "outputs": [],
      "execution_count": 14
    },
    {
      "cell_type": "code",
      "source": "hw['sex'].value_counts().plot(kind='bar')",
      "metadata": {
        "trusted": true,
        "id": "59YB4TBpGAgX"
      },
      "outputs": [
        {
          "execution_count": 15,
          "output_type": "execute_result",
          "data": {
            "text/plain": "<AxesSubplot:xlabel='sex'>"
          },
          "metadata": {}
        },
        {
          "output_type": "display_data",
          "data": {
            "text/plain": "<Figure size 640x480 with 1 Axes>",
            "image/png": "[encoded data removed]"
          },
          "metadata": {}
        }
      ],
      "execution_count": 15
    },
    {
      "cell_type": "markdown",
      "source": "8.  Create a new dataframe hw_binned, result of equal-sized binning of all the numerical columns in hw dataset given the percentile points in the quantile table.\n- Use a for loop to iterate over the columns in hw dataset, and call qcut for binning each of the columns.",
      "metadata": {
        "id": "CA6JdYBAIzgD"
      }
    },
    {
      "cell_type": "code",
      "source": "quantiles = [0, 0.25, 0.5, 0.75, 1]\nhw_binned = pd.DataFrame()\n\nfor col in hw.select_dtypes(include=['number']):\n    hw_binned[col] = pd.qcut(hw[col], q=quantiles, duplicates='drop')\n\nhw_binned",
      "metadata": {
        "trusted": true,
        "id": "jBwU1QYUGAgX"
      },
      "outputs": [
        {
          "execution_count": 16,
          "output_type": "execute_result",
          "data": {
            "text/plain": "                tv       computer         sleep          height  \\\n0    (11.0, 100.0]    (6.0, 10.0]  (1.999, 6.0]    (64.0, 66.0]   \n1    (11.0, 100.0]    (6.0, 10.0]   (8.0, 12.0]  (69.625, 77.0]   \n2    (11.0, 100.0]   (10.0, 20.0]  (1.999, 6.0]  (66.0, 69.625]   \n3     (5.75, 11.0]   (10.0, 20.0]  (1.999, 6.0]  (66.0, 69.625]   \n4      (2.0, 5.75]    (6.0, 10.0]  (1.999, 6.0]  (56.999, 64.0]   \n..             ...            ...           ...             ...   \n143    (2.0, 5.75]   (20.0, 84.0]  (1.999, 6.0]    (64.0, 66.0]   \n144   (5.75, 11.0]   (20.0, 84.0]  (1.999, 6.0]  (69.625, 77.0]   \n145   (5.75, 11.0]    (6.0, 10.0]    (6.0, 7.0]  (69.625, 77.0]   \n146  (-0.001, 2.0]    (6.0, 10.0]  (1.999, 6.0]  (69.625, 77.0]   \n147    (2.0, 5.75]  (-0.001, 6.0]  (1.999, 6.0]  (56.999, 64.0]   \n\n          momheight       dadheight       exercise                        gpa  \\\n0      (65.0, 71.0]    (69.0, 72.0]    (6.0, 30.0]                 (3.3, 4.0]   \n1      (63.0, 65.0]  (54.999, 67.0]  (-0.001, 2.0]  (1.0490000000000002, 2.5]   \n2      (61.0, 63.0]    (72.0, 78.0]     (2.0, 3.0]                 (2.5, 3.0]   \n3    (53.999, 61.0]    (69.0, 72.0]     (3.0, 6.0]                 (2.5, 3.0]   \n4      (63.0, 65.0]    (69.0, 72.0]    (6.0, 30.0]                 (2.5, 3.0]   \n..              ...             ...            ...                        ...   \n143    (65.0, 71.0]    (69.0, 72.0]     (3.0, 6.0]  (1.0490000000000002, 2.5]   \n144    (63.0, 65.0]    (69.0, 72.0]  (-0.001, 2.0]                 (2.5, 3.0]   \n145    (65.0, 71.0]    (72.0, 78.0]    (6.0, 30.0]                 (3.3, 4.0]   \n146  (53.999, 61.0]    (72.0, 78.0]     (2.0, 3.0]                 (3.3, 4.0]   \n147    (61.0, 63.0]  (54.999, 67.0]     (3.0, 6.0]                 (3.3, 4.0]   \n\n              tall        healthy  \n0    (-0.001, 1.0]  (-0.001, 1.0]  \n1    (-0.001, 1.0]  (-0.001, 1.0]  \n2    (-0.001, 1.0]  (-0.001, 1.0]  \n3    (-0.001, 1.0]  (-0.001, 1.0]  \n4    (-0.001, 1.0]  (-0.001, 1.0]  \n..             ...            ...  \n143  (-0.001, 1.0]  (-0.001, 1.0]  \n144  (-0.001, 1.0]  (-0.001, 1.0]  \n145  (-0.001, 1.0]  (-0.001, 1.0]  \n146  (-0.001, 1.0]  (-0.001, 1.0]  \n147  (-0.001, 1.0]  (-0.001, 1.0]  \n\n[148 rows x 10 columns]",
            "text/html": "<div>\n<style scoped>\n    .dataframe tbody tr th:only-of-type {\n        vertical-align: middle;\n    }\n\n    .dataframe tbody tr th {\n        vertical-align: top;\n    }\n\n    .dataframe thead th {\n        text-align: right;\n    }\n</style>\n<table border=\"1\" class=\"dataframe\">\n  <thead>\n    <tr style=\"text-align: right;\">\n      <th></th>\n      <th>tv</th>\n      <th>computer</th>\n      <th>sleep</th>\n      <th>height</th>\n      <th>momheight</th>\n      <th>dadheight</th>\n      <th>exercise</th>\n      <th>gpa</th>\n      <th>tall</th>\n      <th>healthy</th>\n    </tr>\n  </thead>\n  <tbody>\n    <tr>\n      <th>0</th>\n      <td>(11.0, 100.0]</td>\n      <td>(6.0, 10.0]</td>\n      <td>(1.999, 6.0]</td>\n      <td>(64.0, 66.0]</td>\n      <td>(65.0, 71.0]</td>\n      <td>(69.0, 72.0]</td>\n      <td>(6.0, 30.0]</td>\n      <td>(3.3, 4.0]</td>\n      <td>(-0.001, 1.0]</td>\n      <td>(-0.001, 1.0]</td>\n    </tr>\n    <tr>\n      <th>1</th>\n      <td>(11.0, 100.0]</td>\n      <td>(6.0, 10.0]</td>\n      <td>(8.0, 12.0]</td>\n      <td>(69.625, 77.0]</td>\n      <td>(63.0, 65.0]</td>\n      <td>(54.999, 67.0]</td>\n      <td>(-0.001, 2.0]</td>\n      <td>(1.0490000000000002, 2.5]</td>\n      <td>(-0.001, 1.0]</td>\n      <td>(-0.001, 1.0]</td>\n    </tr>\n    <tr>\n      <th>2</th>\n      <td>(11.0, 100.0]</td>\n      <td>(10.0, 20.0]</td>\n      <td>(1.999, 6.0]</td>\n      <td>(66.0, 69.625]</td>\n      <td>(61.0, 63.0]</td>\n      <td>(72.0, 78.0]</td>\n      <td>(2.0, 3.0]</td>\n      <td>(2.5, 3.0]</td>\n      <td>(-0.001, 1.0]</td>\n      <td>(-0.001, 1.0]</td>\n    </tr>\n    <tr>\n      <th>3</th>\n      <td>(5.75, 11.0]</td>\n      <td>(10.0, 20.0]</td>\n      <td>(1.999, 6.0]</td>\n      <td>(66.0, 69.625]</td>\n      <td>(53.999, 61.0]</td>\n      <td>(69.0, 72.0]</td>\n      <td>(3.0, 6.0]</td>\n      <td>(2.5, 3.0]</td>\n      <td>(-0.001, 1.0]</td>\n      <td>(-0.001, 1.0]</td>\n    </tr>\n    <tr>\n      <th>4</th>\n      <td>(2.0, 5.75]</td>\n      <td>(6.0, 10.0]</td>\n      <td>(1.999, 6.0]</td>\n      <td>(56.999, 64.0]</td>\n      <td>(63.0, 65.0]</td>\n      <td>(69.0, 72.0]</td>\n      <td>(6.0, 30.0]</td>\n      <td>(2.5, 3.0]</td>\n      <td>(-0.001, 1.0]</td>\n      <td>(-0.001, 1.0]</td>\n    </tr>\n    <tr>\n      <th>...</th>\n      <td>...</td>\n      <td>...</td>\n      <td>...</td>\n      <td>...</td>\n      <td>...</td>\n      <td>...</td>\n      <td>...</td>\n      <td>...</td>\n      <td>...</td>\n      <td>...</td>\n    </tr>\n    <tr>\n      <th>143</th>\n      <td>(2.0, 5.75]</td>\n      <td>(20.0, 84.0]</td>\n      <td>(1.999, 6.0]</td>\n      <td>(64.0, 66.0]</td>\n      <td>(65.0, 71.0]</td>\n      <td>(69.0, 72.0]</td>\n      <td>(3.0, 6.0]</td>\n      <td>(1.0490000000000002, 2.5]</td>\n      <td>(-0.001, 1.0]</td>\n      <td>(-0.001, 1.0]</td>\n    </tr>\n    <tr>\n      <th>144</th>\n      <td>(5.75, 11.0]</td>\n      <td>(20.0, 84.0]</td>\n      <td>(1.999, 6.0]</td>\n      <td>(69.625, 77.0]</td>\n      <td>(63.0, 65.0]</td>\n      <td>(69.0, 72.0]</td>\n      <td>(-0.001, 2.0]</td>\n      <td>(2.5, 3.0]</td>\n      <td>(-0.001, 1.0]</td>\n      <td>(-0.001, 1.0]</td>\n    </tr>\n    <tr>\n      <th>145</th>\n      <td>(5.75, 11.0]</td>\n      <td>(6.0, 10.0]</td>\n      <td>(6.0, 7.0]</td>\n      <td>(69.625, 77.0]</td>\n      <td>(65.0, 71.0]</td>\n      <td>(72.0, 78.0]</td>\n      <td>(6.0, 30.0]</td>\n      <td>(3.3, 4.0]</td>\n      <td>(-0.001, 1.0]</td>\n      <td>(-0.001, 1.0]</td>\n    </tr>\n    <tr>\n      <th>146</th>\n      <td>(-0.001, 2.0]</td>\n      <td>(6.0, 10.0]</td>\n      <td>(1.999, 6.0]</td>\n      <td>(69.625, 77.0]</td>\n      <td>(53.999, 61.0]</td>\n      <td>(72.0, 78.0]</td>\n      <td>(2.0, 3.0]</td>\n      <td>(3.3, 4.0]</td>\n      <td>(-0.001, 1.0]</td>\n      <td>(-0.001, 1.0]</td>\n    </tr>\n    <tr>\n      <th>147</th>\n      <td>(2.0, 5.75]</td>\n      <td>(-0.001, 6.0]</td>\n      <td>(1.999, 6.0]</td>\n      <td>(56.999, 64.0]</td>\n      <td>(61.0, 63.0]</td>\n      <td>(54.999, 67.0]</td>\n      <td>(3.0, 6.0]</td>\n      <td>(3.3, 4.0]</td>\n      <td>(-0.001, 1.0]</td>\n      <td>(-0.001, 1.0]</td>\n    </tr>\n  </tbody>\n</table>\n<p>148 rows × 10 columns</p>\n</div>"
          },
          "metadata": {}
        }
      ],
      "execution_count": 16
    },
    {
      "cell_type": "markdown",
      "source": "9. Calculate the average number of sleep hours for males who have gpa 3 or higher.",
      "metadata": {
        "id": "QTo3qa3_I22J"
      }
    },
    {
      "cell_type": "code",
      "source": "hw[(hw['sex'] == 'm') & (hw['gpa'] >= 3)]['sleep'].mean()",
      "metadata": {
        "trusted": true,
        "id": "d0jSIaLWGAgX"
      },
      "outputs": [
        {
          "execution_count": 17,
          "output_type": "execute_result",
          "data": {
            "text/plain": "6.590909090909091"
          },
          "metadata": {}
        }
      ],
      "execution_count": 17
    },
    {
      "cell_type": "markdown",
      "source": "10. Create a new function called \"total_hours\", which return the sum of hours spent on \"Tv\", \"computer\" and \"sleep\".\n- Apply the function to hw dataframe and print the total_hours for all observations.",
      "metadata": {
        "id": "PpRrXateI6UM"
      }
    },
    {
      "cell_type": "code",
      "source": "def total_hours(row):\n  return row['tv'] + row['computer'] + row['sleep']\n\nhw['total_hours'] = hw.apply(total_hours, axis=1)\nhw['total_hours']",
      "metadata": {
        "trusted": true,
        "id": "J2pnWbVEGAgY"
      },
      "outputs": [
        {
          "execution_count": 18,
          "output_type": "execute_result",
          "data": {
            "text/plain": "0      26.5\n1      36.0\n2      36.0\n3      34.0\n4      17.5\n       ... \n143    45.0\n144    46.0\n145    23.0\n146    16.0\n147    13.0\nName: total_hours, Length: 148, dtype: float64"
          },
          "metadata": {}
        }
      ],
      "execution_count": 18
    },
    {
      "cell_type": "markdown",
      "source": "# Use the invoice and customer dataframes to answer q11-15",
      "metadata": {
        "id": "8V4a6G5hJBsO"
      }
    },
    {
      "cell_type": "code",
      "source": "customer=pd.read_csv('customer.csv')\ninvoice=pd.read_csv('invoice.csv')\nprint(customer)\nprint(invoice)",
      "metadata": {
        "trusted": true,
        "id": "VMBdaSPKGAgY"
      },
      "outputs": [
        {
          "name": "stdout",
          "text": "   Unnamed: 0  CUS_CODE CUS_LNAME CUS_FNAME\n0           0     10010     Ramas    Alfred\n1           1     10011     Dunne     Leona\n2           2     10012     Smith     Kathy\n3           3     10013   Olowski      Paul\n4           4     10014   Orlando     Myron\n5           5     10015   O'Brian       Amy\n6           6     10016     Brown     James\n7           7     10017  Williams    George\n8           8     10018   Farriss      Anne\n9           9     10019     Smith    Olette\n   Unnamed: 0  INV_NUMBER  CUS_CODE    INV_DATE\n0           0        1001     10014  2012-01-16\n1           1        1002     10011  2012-01-16\n2           2        1003     10012  2012-01-16\n3           3        1004     10011  2012-01-17\n4           4        1005     10018  2012-01-17\n5           5        1006     10014  2012-01-17\n6           6        1007     10015  2012-01-17\n7           7        1008     10011  2012-01-17\n",
          "output_type": "stream"
        }
      ],
      "execution_count": 19
    },
    {
      "cell_type": "markdown",
      "source": "11. Count the number of invoices per customer from the invoice dataframe.",
      "metadata": {
        "id": "p5bTvkqXJEl0"
      }
    },
    {
      "cell_type": "code",
      "source": "invoice['CUS_CODE'].value_counts()",
      "metadata": {
        "trusted": true,
        "id": "Jf01s5GfGAgY"
      },
      "outputs": [
        {
          "execution_count": 20,
          "output_type": "execute_result",
          "data": {
            "text/plain": "CUS_CODE\n10011    3\n10014    2\n10012    1\n10018    1\n10015    1\nName: count, dtype: int64"
          },
          "metadata": {}
        }
      ],
      "execution_count": 20
    },
    {
      "cell_type": "markdown",
      "source": "12. Merge the customer and invoice dataframes and show all matched and unmatched rows from both dataframes.",
      "metadata": {
        "id": "5ddSY0NmJHZg"
      }
    },
    {
      "cell_type": "code",
      "source": "merged_df = pd.merge(customer, invoice, on='CUS_CODE', how='outer')\nmerged_df",
      "metadata": {
        "trusted": true,
        "id": "CA_q-8YxGAgY"
      },
      "outputs": [
        {
          "execution_count": 21,
          "output_type": "execute_result",
          "data": {
            "text/plain": "    Unnamed: 0_x  CUS_CODE CUS_LNAME CUS_FNAME  Unnamed: 0_y  INV_NUMBER  \\\n0              0     10010     Ramas    Alfred           NaN         NaN   \n1              1     10011     Dunne     Leona           1.0      1002.0   \n2              1     10011     Dunne     Leona           3.0      1004.0   \n3              1     10011     Dunne     Leona           7.0      1008.0   \n4              2     10012     Smith     Kathy           2.0      1003.0   \n5              3     10013   Olowski      Paul           NaN         NaN   \n6              4     10014   Orlando     Myron           0.0      1001.0   \n7              4     10014   Orlando     Myron           5.0      1006.0   \n8              5     10015   O'Brian       Amy           6.0      1007.0   \n9              6     10016     Brown     James           NaN         NaN   \n10             7     10017  Williams    George           NaN         NaN   \n11             8     10018   Farriss      Anne           4.0      1005.0   \n12             9     10019     Smith    Olette           NaN         NaN   \n\n      INV_DATE  \n0          NaN  \n1   2012-01-16  \n2   2012-01-17  \n3   2012-01-17  \n4   2012-01-16  \n5          NaN  \n6   2012-01-16  \n7   2012-01-17  \n8   2012-01-17  \n9          NaN  \n10         NaN  \n11  2012-01-17  \n12         NaN  ",
            "text/html": "<div>\n<style scoped>\n    .dataframe tbody tr th:only-of-type {\n        vertical-align: middle;\n    }\n\n    .dataframe tbody tr th {\n        vertical-align: top;\n    }\n\n    .dataframe thead th {\n        text-align: right;\n    }\n</style>\n<table border=\"1\" class=\"dataframe\">\n  <thead>\n    <tr style=\"text-align: right;\">\n      <th></th>\n      <th>Unnamed: 0_x</th>\n      <th>CUS_CODE</th>\n      <th>CUS_LNAME</th>\n      <th>CUS_FNAME</th>\n      <th>Unnamed: 0_y</th>\n      <th>INV_NUMBER</th>\n      <th>INV_DATE</th>\n    </tr>\n  </thead>\n  <tbody>\n    <tr>\n      <th>0</th>\n      <td>0</td>\n      <td>10010</td>\n      <td>Ramas</td>\n      <td>Alfred</td>\n      <td>NaN</td>\n      <td>NaN</td>\n      <td>NaN</td>\n    </tr>\n    <tr>\n      <th>1</th>\n      <td>1</td>\n      <td>10011</td>\n      <td>Dunne</td>\n      <td>Leona</td>\n      <td>1.0</td>\n      <td>1002.0</td>\n      <td>2012-01-16</td>\n    </tr>\n    <tr>\n      <th>2</th>\n      <td>1</td>\n      <td>10011</td>\n      <td>Dunne</td>\n      <td>Leona</td>\n      <td>3.0</td>\n      <td>1004.0</td>\n      <td>2012-01-17</td>\n    </tr>\n    <tr>\n      <th>3</th>\n      <td>1</td>\n      <td>10011</td>\n      <td>Dunne</td>\n      <td>Leona</td>\n      <td>7.0</td>\n      <td>1008.0</td>\n      <td>2012-01-17</td>\n    </tr>\n    <tr>\n      <th>4</th>\n      <td>2</td>\n      <td>10012</td>\n      <td>Smith</td>\n      <td>Kathy</td>\n      <td>2.0</td>\n      <td>1003.0</td>\n      <td>2012-01-16</td>\n    </tr>\n    <tr>\n      <th>5</th>\n      <td>3</td>\n      <td>10013</td>\n      <td>Olowski</td>\n      <td>Paul</td>\n      <td>NaN</td>\n      <td>NaN</td>\n      <td>NaN</td>\n    </tr>\n    <tr>\n      <th>6</th>\n      <td>4</td>\n      <td>10014</td>\n      <td>Orlando</td>\n      <td>Myron</td>\n      <td>0.0</td>\n      <td>1001.0</td>\n      <td>2012-01-16</td>\n    </tr>\n    <tr>\n      <th>7</th>\n      <td>4</td>\n      <td>10014</td>\n      <td>Orlando</td>\n      <td>Myron</td>\n      <td>5.0</td>\n      <td>1006.0</td>\n      <td>2012-01-17</td>\n    </tr>\n    <tr>\n      <th>8</th>\n      <td>5</td>\n      <td>10015</td>\n      <td>O'Brian</td>\n      <td>Amy</td>\n      <td>6.0</td>\n      <td>1007.0</td>\n      <td>2012-01-17</td>\n    </tr>\n    <tr>\n      <th>9</th>\n      <td>6</td>\n      <td>10016</td>\n      <td>Brown</td>\n      <td>James</td>\n      <td>NaN</td>\n      <td>NaN</td>\n      <td>NaN</td>\n    </tr>\n    <tr>\n      <th>10</th>\n      <td>7</td>\n      <td>10017</td>\n      <td>Williams</td>\n      <td>George</td>\n      <td>NaN</td>\n      <td>NaN</td>\n      <td>NaN</td>\n    </tr>\n    <tr>\n      <th>11</th>\n      <td>8</td>\n      <td>10018</td>\n      <td>Farriss</td>\n      <td>Anne</td>\n      <td>4.0</td>\n      <td>1005.0</td>\n      <td>2012-01-17</td>\n    </tr>\n    <tr>\n      <th>12</th>\n      <td>9</td>\n      <td>10019</td>\n      <td>Smith</td>\n      <td>Olette</td>\n      <td>NaN</td>\n      <td>NaN</td>\n      <td>NaN</td>\n    </tr>\n  </tbody>\n</table>\n</div>"
          },
          "metadata": {}
        }
      ],
      "execution_count": 21
    },
    {
      "cell_type": "markdown",
      "source": "13. Merge the two dataframes customer and invoice into dataframe called customerInvoice using inner join.\n- Write customerInvoice data to a customerInvoice.csv file.",
      "metadata": {
        "id": "QtLlT_QLJKOM"
      }
    },
    {
      "cell_type": "code",
      "source": "customerInvoice = pd.merge(customer, invoice, on='CUS_CODE', how='inner')\ncustomerInvoice.to_csv('customerInvoice.csv', index=False)",
      "metadata": {
        "trusted": true,
        "id": "uos15N_PGAgZ"
      },
      "outputs": [],
      "execution_count": 22
    },
    {
      "cell_type": "markdown",
      "source": "14. Group the invoices by customer last name and invoice date.",
      "metadata": {
        "id": "AxNQ5xebJOfE"
      }
    },
    {
      "cell_type": "code",
      "source": "customerInvoice.groupby(['CUS_LNAME', 'INV_DATE'])\ncustomerInvoice",
      "metadata": {
        "trusted": true,
        "id": "gMtjf8XxGAgZ"
      },
      "outputs": [
        {
          "execution_count": 23,
          "output_type": "execute_result",
          "data": {
            "text/plain": "   Unnamed: 0_x  CUS_CODE CUS_LNAME CUS_FNAME  Unnamed: 0_y  INV_NUMBER  \\\n0             1     10011     Dunne     Leona             1        1002   \n1             1     10011     Dunne     Leona             3        1004   \n2             1     10011     Dunne     Leona             7        1008   \n3             2     10012     Smith     Kathy             2        1003   \n4             4     10014   Orlando     Myron             0        1001   \n5             4     10014   Orlando     Myron             5        1006   \n6             5     10015   O'Brian       Amy             6        1007   \n7             8     10018   Farriss      Anne             4        1005   \n\n     INV_DATE  \n0  2012-01-16  \n1  2012-01-17  \n2  2012-01-17  \n3  2012-01-16  \n4  2012-01-16  \n5  2012-01-17  \n6  2012-01-17  \n7  2012-01-17  ",
            "text/html": "<div>\n<style scoped>\n    .dataframe tbody tr th:only-of-type {\n        vertical-align: middle;\n    }\n\n    .dataframe tbody tr th {\n        vertical-align: top;\n    }\n\n    .dataframe thead th {\n        text-align: right;\n    }\n</style>\n<table border=\"1\" class=\"dataframe\">\n  <thead>\n    <tr style=\"text-align: right;\">\n      <th></th>\n      <th>Unnamed: 0_x</th>\n      <th>CUS_CODE</th>\n      <th>CUS_LNAME</th>\n      <th>CUS_FNAME</th>\n      <th>Unnamed: 0_y</th>\n      <th>INV_NUMBER</th>\n      <th>INV_DATE</th>\n    </tr>\n  </thead>\n  <tbody>\n    <tr>\n      <th>0</th>\n      <td>1</td>\n      <td>10011</td>\n      <td>Dunne</td>\n      <td>Leona</td>\n      <td>1</td>\n      <td>1002</td>\n      <td>2012-01-16</td>\n    </tr>\n    <tr>\n      <th>1</th>\n      <td>1</td>\n      <td>10011</td>\n      <td>Dunne</td>\n      <td>Leona</td>\n      <td>3</td>\n      <td>1004</td>\n      <td>2012-01-17</td>\n    </tr>\n    <tr>\n      <th>2</th>\n      <td>1</td>\n      <td>10011</td>\n      <td>Dunne</td>\n      <td>Leona</td>\n      <td>7</td>\n      <td>1008</td>\n      <td>2012-01-17</td>\n    </tr>\n    <tr>\n      <th>3</th>\n      <td>2</td>\n      <td>10012</td>\n      <td>Smith</td>\n      <td>Kathy</td>\n      <td>2</td>\n      <td>1003</td>\n      <td>2012-01-16</td>\n    </tr>\n    <tr>\n      <th>4</th>\n      <td>4</td>\n      <td>10014</td>\n      <td>Orlando</td>\n      <td>Myron</td>\n      <td>0</td>\n      <td>1001</td>\n      <td>2012-01-16</td>\n    </tr>\n    <tr>\n      <th>5</th>\n      <td>4</td>\n      <td>10014</td>\n      <td>Orlando</td>\n      <td>Myron</td>\n      <td>5</td>\n      <td>1006</td>\n      <td>2012-01-17</td>\n    </tr>\n    <tr>\n      <th>6</th>\n      <td>5</td>\n      <td>10015</td>\n      <td>O'Brian</td>\n      <td>Amy</td>\n      <td>6</td>\n      <td>1007</td>\n      <td>2012-01-17</td>\n    </tr>\n    <tr>\n      <th>7</th>\n      <td>8</td>\n      <td>10018</td>\n      <td>Farriss</td>\n      <td>Anne</td>\n      <td>4</td>\n      <td>1005</td>\n      <td>2012-01-17</td>\n    </tr>\n  </tbody>\n</table>\n</div>"
          },
          "metadata": {}
        }
      ],
      "execution_count": 23
    },
    {
      "cell_type": "markdown",
      "source": "15. Print the unique values for the column invoice date from the customerInvoice dataframe.",
      "metadata": {
        "id": "D6Ux_idIJQ_o"
      }
    },
    {
      "cell_type": "code",
      "source": "customerInvoice['INV_DATE'].unique()",
      "metadata": {
        "trusted": true,
        "id": "jzBv6VPNGAga"
      },
      "outputs": [
        {
          "execution_count": 24,
          "output_type": "execute_result",
          "data": {
            "text/plain": "array(['2012-01-16', '2012-01-17'], dtype=object)"
          },
          "metadata": {}
        }
      ],
      "execution_count": 24
    }
  ]
}